{
  "nbformat": 4,
  "nbformat_minor": 0,
  "metadata": {
    "colab": {
      "provenance": []
    },
    "kernelspec": {
      "name": "python3",
      "display_name": "Python 3"
    },
    "language_info": {
      "name": "python"
    }
  },
  "cells": [
    {
      "cell_type": "markdown",
      "metadata": {
        "id": "OeHSz3_b5ehN"
      },
      "source": [
        "# Задачі для теоретичного заняття одинадцятого дня\n",
        "\n",
        "Задачі теоретичного блоку: продемонструвати на практичному прикладі теорію визначення та створення класу, створення об'єктів, атрибути і поля класу, конструктор класу, наслідування, МРО\n",
        "Для самостійного опрацювання і спроб запускати всі існуючі задачі не заважаючи іншим студентам курсу потрібно здійснити наступні кроки:\n",
        "\n",
        "1. Натиснути кнопку \"Файл\" в лівому верхньому куті\n",
        "2. Вибрати пункт \"Зберегти копію на диску\"\n",
        "3. У вікні з вашою копією у правому верхньому куті натиснути \"Підключитись\"\n",
        "\n",
        "Можете запускати всі задачі, які забажаєте і писати власні програми вивчаючи функціонал цього середовища\n"
      ]
    },
    {
      "cell_type": "markdown",
      "source": [
        "###**items.csv**"
      ],
      "metadata": {
        "id": "uPKdntlYpJPX"
      }
    },
    {
      "cell_type": "code",
      "source": [
        "name,price,quantity\n",
        "\"Phone\",100,1\n",
        "\"Laptop\",1000,3\n",
        "\"Cable\",10,5\n",
        "\"Mouse\",50,5\n",
        "\"Keyboard\",75,5"
      ],
      "metadata": {
        "id": "aOCinyX4pKoM"
      },
      "execution_count": null,
      "outputs": []
    },
    {
      "cell_type": "markdown",
      "source": [
        "# SOLID пошукати і вивчити"
      ],
      "metadata": {
        "id": "DN_Qt0v1WA81"
      }
    },
    {
      "cell_type": "markdown",
      "source": [
        "## Class"
      ],
      "metadata": {
        "id": "ZbgoOQyKyTKI"
      }
    },
    {
      "cell_type": "markdown",
      "source": [
        "### Part 1 Вступ в ООП"
      ],
      "metadata": {
        "id": "H58tyQ2WyWBY"
      }
    },
    {
      "cell_type": "code",
      "source": [
        "# main.py\n",
        "\n",
        "class Item:\n",
        "    def calculate_total_price(self, price, quantity):\n",
        "        return price * quantity\n",
        "\n",
        "item = Item()\n",
        "item.name = 'Test name'\n",
        "item.price = 1000\n",
        "item.quantity = 90\n",
        "\n",
        "# print(item.name)\n",
        "print(item.__dict__)\n",
        "\n",
        "print(item.calculate_total_price(item.price, item.quantity))\n",
        "\n",
        "item2 = Item()\n",
        "# item2.name = 'Test name2'\n",
        "item2.price = 500\n",
        "item2.quantity = 45\n",
        "\n",
        "# print(item2.name)\n",
        "#\n",
        "# print(item2.calculate_total_price(item2.price, item.quantity))\n",
        "\n",
        "print(item2.__dict__)"
      ],
      "metadata": {
        "id": "8oBIVeJPz7H8"
      },
      "execution_count": null,
      "outputs": []
    },
    {
      "cell_type": "markdown",
      "source": [
        "Метод `super()` можна використовувати поза класом або хочете явно вказати, з якого класу хочете почати пошук методів."
      ],
      "metadata": {
        "id": "4AaktzTe0aN0"
      }
    },
    {
      "cell_type": "code",
      "source": [
        "print(super(Dog, dog).get_info())"
      ],
      "metadata": {
        "id": "U5FzLvrt0fmJ"
      },
      "execution_count": null,
      "outputs": []
    },
    {
      "cell_type": "markdown",
      "source": [
        "У цьому випадку об'єкт, отриманий з `super()`, поводитиметься як клас `Animal` (батько `Dog`), хоча прив'язаний він до змінної `dog`, яка є екземпляром класу `Dog`."
      ],
      "metadata": {
        "id": "USUcy8xb0fr-"
      }
    },
    {
      "cell_type": "markdown",
      "source": [
        "### Part 2 Конструктор і\n",
        "\n",
        "```\n",
        "__init__\n",
        "```\n",
        "\n"
      ],
      "metadata": {
        "id": "rpXC_Uz8nmcA"
      }
    },
    {
      "cell_type": "code",
      "source": [
        "# main.py\n",
        "\n",
        "class Item:\n",
        "    def __init__(self, name: str, price: float, quantity=0):\n",
        "        self.name = name\n",
        "        self.price = price\n",
        "        self.quantity = quantity\n",
        "\n",
        "    def calculate_total_price(self):\n",
        "        return self.price * self.quantity\n",
        "\n",
        "item1 = Item('Phone', 100, 1)\n",
        "item2 = Item(\"Laptop\", 1000, 5)\n",
        "\n",
        "print(item1.calculate_total_price())\n",
        "print(item2.calculate_total_price())\n"
      ],
      "metadata": {
        "id": "SC4_v49Wo0j-"
      },
      "execution_count": null,
      "outputs": []
    },
    {
      "cell_type": "markdown",
      "source": [
        "### Part 3 Атрибути класу і зміні класу"
      ],
      "metadata": {
        "id": "cwmPM_B9nsbj"
      }
    },
    {
      "cell_type": "code",
      "source": [
        "# main.py\n",
        "\n",
        "class Item:\n",
        "    pay_rate = 0.8 # Сума після знижки в 20%\n",
        "    all_class_instance = list()\n",
        "\n",
        "    def __init__(self, name: str, price: float, quantity=0):\n",
        "        self.name = name\n",
        "        self.price = price\n",
        "        self.quantity = quantity\n",
        "\n",
        "        Item.all_class_instance.append(self)\n",
        "\n",
        "    def calculate_total_price(self):\n",
        "        return self.price * self.quantity\n",
        "\n",
        "    def apply_discount(self):\n",
        "        self.price = self.price * self.pay_rate\n",
        "\n",
        "    def info(self):\n",
        "        return f\"Item( name:{self.name}, price:{self.price}, quantity:{self.quantity} )\"\n",
        "\n",
        "\n",
        "item1 = Item('Phone', 100, 1)\n",
        "item2 = Item(\"Laptop\", 1000, 5)\n",
        "\n",
        "\n",
        "print(item1.__dict__)\n",
        "item2.apply_discount()\n",
        "print(item2.__dict__)\n",
        "print(item2.all_class_instance)\n",
        "# print(item1.calculate_total_price())\n",
        "# print(item2.calculate_total_price())\n",
        "\n",
        "# print(item1.__dict__)\n",
        "# print(item2.__dict__)\n"
      ],
      "metadata": {
        "id": "p8nWjz6noGAU"
      },
      "execution_count": null,
      "outputs": []
    },
    {
      "cell_type": "markdown",
      "source": [
        "### Part 4 Клас метод і статичний метод"
      ],
      "metadata": {
        "id": "kzgvaJzWnssx"
      }
    },
    {
      "cell_type": "code",
      "source": [
        "# Коли використовувати методи класу, а коли статичні методи?\n",
        "\n",
        "class Item:\n",
        "    @staticmethod\n",
        "    def is_integer():\n",
        "        '''\n",
        "        Це має бути щось, що має зв'язок\n",
        "        з класом, але не те, що повинно бути унікальним\n",
        "        для кожного екземпляру!\n",
        "        '''\n",
        "    @classmethod\n",
        "    def instantiate_from_something(cls):\n",
        "        '''\n",
        "        Це також має бути щось, що пов'язане\n",
        "        з класом, але зазвичай вони використовуються для\n",
        "        маніпулювання різними структурами даних для створення екземплярів\n",
        "        об'єктів\n",
        "        '''\n",
        "\n",
        "# ЄДИНА ВІДМІННІСТЬ МІЖ НИМИ:\n",
        "# статичні методи не передають посилання на об'єкт як перший аргумент у фоновому режимі!\n",
        "\n",
        "# ПРИМІТКА: Однак, їх також можна викликати з екземплярів.\n",
        "\n",
        "item1 = Item()\n",
        "item1.is_integer()\n",
        "item1.instantiate_from_something()"
      ],
      "metadata": {
        "id": "YZ2EPeMTpQ0F"
      },
      "execution_count": null,
      "outputs": []
    },
    {
      "cell_type": "code",
      "source": [
        "class Item:\n",
        "    pay_rate = 0.8 # Сума після знижки в 20%\n",
        "    all_class_instance = list()\n",
        "    class_instances = dict()\n",
        "\n",
        "    def __init__(self, name: str, price: float, quantity=0):\n",
        "\n",
        "        assert price >= 0, f\"Price {price} is not greater than or equal to zero\"\n",
        "        assert quantity >= 0, f\"Quantity {quantity} is not greater than or equal to zero\"\n",
        "\n",
        "        self.name = name\n",
        "        self.price = price\n",
        "        self.quantity = quantity\n",
        "\n",
        "        Item.all_class_instance.append(self)\n",
        "\n",
        "    def calculate_total_price(self):\n",
        "        return self.price * self.quantity\n",
        "\n",
        "    def apply_discount(self):\n",
        "        self.price = self.price * self.pay_rate\n",
        "\n",
        "    def info(self):\n",
        "        return f\"Item( name:{self.name}, price:{self.price}, quantity:{self.quantity} )\"\n",
        "    @classmethod\n",
        "    def all_items_info(cls):\n",
        "        return [item.info() for item in cls.all_class_instance]\n",
        "\n",
        "    @classmethod\n",
        "    def load_data_from_csv(cls):\n",
        "        with open('items.csv', 'r') as file:\n",
        "            next(file)\n",
        "            for line in file:\n",
        "                name, price, quantity = line.strip().split(',')\n",
        "                # cls(\n",
        "                Item(\n",
        "                    name=name.strip('\"'),\n",
        "                    price=float(price),\n",
        "                    quantity=int(quantity)\n",
        "                    )\n",
        "                # item = Item(\n",
        "                #     name=name.strip('\"'),\n",
        "                #     price=float(price),\n",
        "                #     quantity=int(quantity)\n",
        "                #     )\n",
        "                # Item.class_instances[name.strip('\"')] = item\n",
        "\n",
        "# item1 = Item('Phone', 100, 1)\n",
        "# item2 = Item(\"Laptop\", 1000, 5)\n",
        "#\n",
        "# print(item1.info())\n",
        "# print(item2.info())\n",
        "#\n",
        "# print(Item.all_class_instance)\n",
        "# print(Item.all_items_info())\n",
        "item = Item(\"Keyboard\", 150, 7)\n",
        "item.load_data_from_csv()\n",
        "print(item.info())\n",
        "print(Item.all_items_info())\n",
        "\n",
        "# print(Item.class_instances)\n",
        "# print(Item.class_instances['Mouse'].price)"
      ],
      "metadata": {
        "id": "2gQYe-UOo2u8"
      },
      "execution_count": null,
      "outputs": []
    },
    {
      "cell_type": "markdown",
      "source": [
        "### Part 5 Наслідування"
      ],
      "metadata": {
        "id": "bRSxSIrfns6B"
      }
    },
    {
      "cell_type": "code",
      "source": [
        "# main.py\n",
        "\n",
        "class Item:\n",
        "    pay_rate = 0.8 # Сума після знижки в 20%\n",
        "    all_class_instance = list()\n",
        "\n",
        "    def __init__(self, name: str, price: float, quantity=0):\n",
        "\n",
        "        assert price >= 0, f\"Price {price} is not greater than or equal to zero\"\n",
        "        assert quantity >= 0, f\"Quantity {quantity} is not greater than or equal to zero\"\n",
        "\n",
        "        self.name = name\n",
        "        self.price = price\n",
        "        self.quantity = quantity\n",
        "\n",
        "        Item.all_class_instance.append(self)\n",
        "\n",
        "    def calculate_total_price(self):\n",
        "        return self.price * self.quantity\n",
        "\n",
        "    def apply_discount(self):\n",
        "        self.price = round(self.price * self.pay_rate, 2)\n",
        "\n",
        "    def info(self):\n",
        "        return f\"Item( name:{self.name}, price:{self.price}, quantity:{self.quantity} )\"\n",
        "    @classmethod\n",
        "    def all_items_info(cls):\n",
        "        return [item.info() for item in cls.all_class_instance]\n",
        "\n",
        "    @classmethod\n",
        "    def load_data_from_csv(cls):\n",
        "        with open('items.csv', 'r') as file:\n",
        "            next(file)\n",
        "            for line in file:\n",
        "                name, price, quantity = line.strip().split(',')\n",
        "                # cls(\n",
        "                Item(\n",
        "                    name=name.strip('\"'),\n",
        "                    price=float(price),\n",
        "                    quantity=int(quantity)\n",
        "                    )\n",
        "\n",
        "class Phone(Item):\n",
        "    def __init__(self, name: str, price: float, broken_phones: int, quantity=0):\n",
        "        super().__init__(name, price, quantity)\n",
        "        self.broken_phones = broken_phones\n",
        "\n",
        "    def info(self):\n",
        "        return f\"Phone( name:{self.name}, price:{self.price}, \" \\\n",
        "               f\"quantity:{self.quantity}, broken_phones: {self.broken_phones} )\"\n",
        "\n",
        "\n",
        "phone = Phone(\"Phone16\", 78, 945, 13)\n",
        "\n",
        "print(phone.info())\n",
        "phone.apply_discount()\n",
        "print(phone.info())\n",
        "\n",
        "item = Item(\"TestItem\", 90000, 3)\n",
        "print(item.info())\n",
        "item.apply_discount()\n",
        "print(item.info())"
      ],
      "metadata": {
        "id": "3umBzoXqo3NZ"
      },
      "execution_count": null,
      "outputs": []
    },
    {
      "cell_type": "markdown",
      "source": [
        "### Part 6 Інкапсуляція"
      ],
      "metadata": {
        "id": "fwlAyIX1ntTO"
      }
    },
    {
      "cell_type": "code",
      "source": [
        "# item.py\n",
        "\n",
        "class Item:\n",
        "    pay_rate = 0.8 # Сума після знижки в 20%\n",
        "    all_class_instance = list()\n",
        "\n",
        "    def __init__(self, name: str, price: float, quantity=0):\n",
        "\n",
        "        assert price >= 0, f\"Price {price} is not greater than or equal to zero\"\n",
        "        assert quantity >= 0, f\"Quantity {quantity} is not greater than or equal to zero\"\n",
        "\n",
        "        self.__name = name\n",
        "        self.price = price\n",
        "        self.quantity = quantity\n",
        "\n",
        "        Item.all_class_instance.append(self)\n",
        "\n",
        "    def get_name(self):\n",
        "        return self.__name\n",
        "\n",
        "    def set_name(self, value):\n",
        "        if len(value) > 10:\n",
        "            raise Exception(\"The name is to short\")\n",
        "        else:\n",
        "            self.__name = value\n",
        "\n",
        "    def calculate_total_price(self):\n",
        "        return self.price * self.quantity\n",
        "\n",
        "    def apply_discount(self):\n",
        "        self.price = round(self.price * self.pay_rate, 2)\n",
        "\n",
        "    def info(self):\n",
        "        return f\"Item( name:{self.get_name()}, price:{self.price}, quantity:{self.quantity} )\"\n",
        "\n",
        "    @classmethod\n",
        "    def all_items_info(cls):\n",
        "        return [item.info() for item in cls.all_class_instance]\n",
        "\n",
        "    @classmethod\n",
        "    def load_data_from_csv(cls):\n",
        "        with open('items.csv', 'r') as file:\n",
        "            next(file)\n",
        "            for line in file:\n",
        "                name, price, quantity = line.strip().split(',')\n",
        "                # cls(\n",
        "                Item(\n",
        "                    name=name.strip('\"'),\n",
        "                    price=float(price),\n",
        "                    quantity=int(quantity)\n",
        "                    )\n"
      ],
      "metadata": {
        "id": "HzByZg_3o3zv"
      },
      "execution_count": null,
      "outputs": []
    },
    {
      "cell_type": "code",
      "source": [
        "# phone.py\n",
        "\n",
        "from item import Item\n",
        "\n",
        "class Phone(Item):\n",
        "    def __init__(self, name: str, price: float, broken_phones: int, quantity=0):\n",
        "        super().__init__(name, price, quantity)\n",
        "        self.broken_phones = broken_phones\n",
        "\n",
        "    def info(self):\n",
        "        return f\"Phone( name:{self.get_name()}, price:{self.price}, \" \\\n",
        "               f\"quantity:{self.quantity}, broken_phones: {self.broken_phones} )\"\n"
      ],
      "metadata": {
        "id": "qvZ8iQoLpk-6"
      },
      "execution_count": null,
      "outputs": []
    },
    {
      "cell_type": "code",
      "source": [
        "# main.py\n",
        "\n",
        "from item import Item\n",
        "\n",
        "item = Item('MyItem', 750)\n",
        "\n",
        "print(item.info())\n",
        "\n",
        "item.name = \"OtherName\"\n",
        "\n",
        "print(item.name)\n",
        "\n",
        "print(item.info())\n",
        "print(item.__dict__)"
      ],
      "metadata": {
        "id": "mHHtkmAAplFr"
      },
      "execution_count": null,
      "outputs": []
    },
    {
      "cell_type": "markdown",
      "source": [
        "### Part 7 Поліморфізм"
      ],
      "metadata": {
        "id": "7fLsktFVntgW"
      }
    },
    {
      "cell_type": "code",
      "source": [
        "# item.py\n",
        "\n",
        "class Item:\n",
        "    pay_rate = 0.8 # Сума після знижки в 20%\n",
        "    all_class_instance = list()\n",
        "\n",
        "    def __init__(self, name: str, price: float, quantity=0):\n",
        "\n",
        "        assert price >= 0, f\"Price {price} is not greater than or equal to zero\"\n",
        "        assert quantity >= 0, f\"Quantity {quantity} is not greater than or equal to zero\"\n",
        "\n",
        "        self.__name = name\n",
        "        self.__price = price\n",
        "        self.quantity = quantity\n",
        "\n",
        "        Item.all_class_instance.append(self)\n",
        "\n",
        "    def get_price(self):\n",
        "        return self.__price\n",
        "\n",
        "    def get_name(self):\n",
        "        return self.__name\n",
        "\n",
        "    def set_name(self, value):\n",
        "        if len(value) > 10:\n",
        "            raise Exception(\"The name is to short\")\n",
        "        else:\n",
        "            self.__name = value\n",
        "\n",
        "    def calculate_total_price(self):\n",
        "        return self.__price * self.quantity\n",
        "\n",
        "    def apply_discount(self):\n",
        "        self.__price = round(self.__price * self.pay_rate, 2)\n",
        "\n",
        "    def info(self):\n",
        "        return f\"Item( name:{self.get_name()}, price:{self.get_price()}, quantity:{self.quantity} )\"\n",
        "\n",
        "    @classmethod\n",
        "    def all_items_info(cls):\n",
        "        return [item.info() for item in cls.all_class_instance]\n",
        "\n",
        "    @classmethod\n",
        "    def load_data_from_csv(cls):\n",
        "        with open('items.csv', 'r') as file:\n",
        "            next(file)\n",
        "            for line in file:\n",
        "                name, price, quantity = line.strip().split(',')\n",
        "                # cls(\n",
        "                Item(\n",
        "                    name=name.strip('\"'),\n",
        "                    price=float(price),\n",
        "                    quantity=int(quantity)\n",
        "                    )\n"
      ],
      "metadata": {
        "id": "gBcBesm3o4Sc"
      },
      "execution_count": null,
      "outputs": []
    },
    {
      "cell_type": "code",
      "source": [
        "# phone.py\n",
        "\n",
        "from item import Item\n",
        "\n",
        "class Phone(Item):\n",
        "    pay_rate = 0.7\n",
        "    def __init__(self, name: str, price: float, broken_phones: int, quantity=0):\n",
        "        super().__init__(name, price, quantity)\n",
        "        self.broken_phones = broken_phones\n",
        "        assert broken_phones >= 0, f\"Broken phones {broken_phones} is not greater than or equal to zero\"\n",
        "\n",
        "    def info(self):\n",
        "        return f\"Phone( name:{self.get_name()}, price:{self.price}, \" \\\n",
        "               f\"quantity:{self.quantity}, broken_phones: {self.broken_phones} )\"\n"
      ],
      "metadata": {
        "id": "AJdY82-OpqEA"
      },
      "execution_count": null,
      "outputs": []
    },
    {
      "cell_type": "code",
      "source": [
        "# keyboard.py\n",
        "\n",
        "from item import Item\n",
        "\n",
        "class Keyboard(Item):\n",
        "    pay_rate = 0.5\n",
        "    def __init__(self, name: str, price: float):\n",
        "        super().__init__(name, price)\n",
        "\n",
        "    def info(self):\n",
        "        return f\"Phone( name:{self.get_name()}, price:{self.get_price()}\"\n"
      ],
      "metadata": {
        "id": "n47iE1QbprU1"
      },
      "execution_count": null,
      "outputs": []
    },
    {
      "cell_type": "code",
      "source": [
        "# main.py\n",
        "\n",
        "from phone import Phone\n",
        "from keyboard import Keyboard\n",
        "\n",
        "item1 = Keyboard('Logi', 3456)\n",
        "item1.apply_discount()\n",
        "print(item1.get_price())\n",
        "\n",
        "item2 = Phone('TestPhone', 1234, 1)\n",
        "item2.apply_discount()\n",
        "print(item2.get_price())"
      ],
      "metadata": {
        "id": "TygZc4OspqKq"
      },
      "execution_count": null,
      "outputs": []
    },
    {
      "cell_type": "markdown",
      "source": [
        "## Method Resolution Order (MRO)."
      ],
      "metadata": {
        "id": "PI0yIaII1Kjr"
      }
    },
    {
      "cell_type": "markdown",
      "source": [
        "MRO в Python працює таким чином:\n",
        "\n",
        "1. Шукає атрибут серед атрибутів самого класу. Саме завдяки цьому, ви можете \"перевизначати\" батьківські атрибути.\n",
        "2. Шукає атрибут у першого батька (той, що вказаний першим у списку батьків).\n",
        "3. Шукає атрибут у наступного батька в списку батьків, поки такі є.\n",
        "4. Шукає атрибут у батьках першого батька.\n",
        "5. Повторює п.4 для всіх батьків.\n",
        "6. Викликає виняток, що атрибут не знайдено."
      ],
      "metadata": {
        "id": "bHMTcTws1OC9"
      }
    },
    {
      "cell_type": "code",
      "source": [
        "class A:\n",
        "    x = 'a'\n",
        "\n",
        "class B(A):\n",
        "    pass\n",
        "\n",
        "class C(A):\n",
        "    ...\n",
        "\n",
        "class D(B, C):\n",
        "    x = 'd'\n",
        "\n",
        "print(B.x)\n",
        "print(D.x)\n",
        "print(D.__mro__) #mro 3 (<class '__main__.D'>, <class '__main__.B'>, <class '__main__.C'>, <class '__main__.A'>, <class 'object'>)\n",
        "#mro 2 (<class '__main__.D'>, <class '__main__.B'>, <class '__main__.A'>, <class '__main__.C'>, <class 'object'>)"
      ],
      "metadata": {
        "id": "uiPDvvYP1cHM",
        "colab": {
          "base_uri": "https://localhost:8080/"
        },
        "outputId": "8148a068-742f-479d-9dec-0cb4e9d72990"
      },
      "execution_count": null,
      "outputs": [
        {
          "output_type": "stream",
          "name": "stdout",
          "text": [
            "a\n",
            "d\n",
            "(<class '__main__.D'>, <class '__main__.B'>, <class '__main__.C'>, <class '__main__.A'>, <class 'object'>)\n"
          ]
        }
      ]
    }
  ]
}