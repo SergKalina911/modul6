{
  "cells": [
    {
      "cell_type": "markdown",
      "metadata": {
        "id": "OeHSz3_b5ehN"
      },
      "source": [
        "# Задачі для теоретичного заняття одинадцятого дня\n",
        "\n",
        "Задачі теоретичного блоку: продемонструвати на практичному прикладі теорію визначення та створення класу, створення об'єктів, атрибути і поля класу, конструктор класу, наслідування, МРО\n",
        "Для самостійного опрацювання і спроб запускати всі існуючі задачі не заважаючи іншим студентам курсу потрібно здійснити наступні кроки:\n",
        "\n",
        "1. Натиснути кнопку \"Файл\" в лівому верхньому куті\n",
        "2. Вибрати пункт \"Зберегти копію на диску\"\n",
        "3. У вікні з вашою копією у правому верхньому куті натиснути \"Підключитись\"\n",
        "\n",
        "Можете запускати всі задачі, які забажаєте і писати власні програми вивчаючи функціонал цього середовища\n"
      ]
    },
    {
      "cell_type": "markdown",
      "metadata": {
        "id": "uPKdntlYpJPX"
      },
      "source": [
        "###**items.csv**"
      ]
    },
    {
      "cell_type": "code",
      "execution_count": 1,
      "metadata": {
        "id": "aOCinyX4pKoM"
      },
      "outputs": [
        {
          "ename": "NameError",
          "evalue": "name 'name' is not defined",
          "output_type": "error",
          "traceback": [
            "\u001b[31m---------------------------------------------------------------------------\u001b[39m",
            "\u001b[31mNameError\u001b[39m                                 Traceback (most recent call last)",
            "\u001b[36mCell\u001b[39m\u001b[36m \u001b[39m\u001b[32mIn[1]\u001b[39m\u001b[32m, line 1\u001b[39m\n\u001b[32m----> \u001b[39m\u001b[32m1\u001b[39m \u001b[43mname\u001b[49m,price,quantity\n\u001b[32m      2\u001b[39m \u001b[33m\"\u001b[39m\u001b[33mPhone\u001b[39m\u001b[33m\"\u001b[39m,\u001b[32m100\u001b[39m,\u001b[32m1\u001b[39m\n\u001b[32m      3\u001b[39m \u001b[33m\"\u001b[39m\u001b[33mLaptop\u001b[39m\u001b[33m\"\u001b[39m,\u001b[32m1000\u001b[39m,\u001b[32m3\u001b[39m\n",
            "\u001b[31mNameError\u001b[39m: name 'name' is not defined"
          ]
        }
      ],
      "source": [
        "name,price,quantity\n",
        "\"Phone\",100,1\n",
        "\"Laptop\",1000,3\n",
        "\"Cable\",10,5\n",
        "\"Mouse\",50,5\n",
        "\"Keyboard\",75,5"
      ]
    },
    {
      "cell_type": "markdown",
      "metadata": {
        "id": "DN_Qt0v1WA81"
      },
      "source": [
        "# SOLID пошукати і вивчити"
      ]
    },
    {
      "cell_type": "markdown",
      "metadata": {
        "id": "ZbgoOQyKyTKI"
      },
      "source": [
        "## Class"
      ]
    },
    {
      "cell_type": "markdown",
      "metadata": {
        "id": "H58tyQ2WyWBY"
      },
      "source": [
        "### Part 1 Вступ в ООП"
      ]
    },
    {
      "cell_type": "code",
      "execution_count": 2,
      "metadata": {
        "id": "8oBIVeJPz7H8"
      },
      "outputs": [
        {
          "name": "stdout",
          "output_type": "stream",
          "text": [
            "{'name': 'Test name', 'price': 1000, 'quantity': 90}\n",
            "90000\n",
            "{'price': 500, 'quantity': 45}\n"
          ]
        }
      ],
      "source": [
        "# main.py\n",
        "\n",
        "class Item:\n",
        "    def calculate_total_price(self, price, quantity):\n",
        "        return price * quantity\n",
        "\n",
        "item = Item()\n",
        "item.name = 'Test name'\n",
        "item.price = 1000\n",
        "item.quantity = 90\n",
        "\n",
        "# print(item.name)\n",
        "print(item.__dict__)\n",
        "\n",
        "print(item.calculate_total_price(item.price, item.quantity))\n",
        "\n",
        "item2 = Item()\n",
        "# item2.name = 'Test name2'\n",
        "item2.price = 500\n",
        "item2.quantity = 45\n",
        "\n",
        "# print(item2.name)\n",
        "#\n",
        "# print(item2.calculate_total_price(item2.price, item.quantity))\n",
        "\n",
        "print(item2.__dict__)"
      ]
    },
    {
      "cell_type": "markdown",
      "metadata": {
        "id": "4AaktzTe0aN0"
      },
      "source": [
        "Метод `super()` можна використовувати поза класом або хочете явно вказати, з якого класу хочете почати пошук методів."
      ]
    },
    {
      "cell_type": "code",
      "execution_count": null,
      "metadata": {
        "id": "U5FzLvrt0fmJ"
      },
      "outputs": [],
      "source": [
        "print(super(Dog, dog).get_info())"
      ]
    },
    {
      "cell_type": "markdown",
      "metadata": {
        "id": "USUcy8xb0fr-"
      },
      "source": [
        "У цьому випадку об'єкт, отриманий з `super()`, поводитиметься як клас `Animal` (батько `Dog`), хоча прив'язаний він до змінної `dog`, яка є екземпляром класу `Dog`."
      ]
    },
    {
      "cell_type": "markdown",
      "metadata": {
        "id": "rpXC_Uz8nmcA"
      },
      "source": [
        "### Part 2 Конструктор і\n",
        "\n",
        "```\n",
        "__init__\n",
        "```\n",
        "\n"
      ]
    },
    {
      "cell_type": "code",
      "execution_count": null,
      "metadata": {
        "id": "SC4_v49Wo0j-"
      },
      "outputs": [],
      "source": [
        "# main.py\n",
        "\n",
        "class Item:\n",
        "    def __init__(self, name: str, price: float, quantity=0):\n",
        "        self.name = name\n",
        "        self.price = price\n",
        "        self.quantity = quantity\n",
        "\n",
        "    def calculate_total_price(self):\n",
        "        return self.price * self.quantity\n",
        "\n",
        "item1 = Item('Phone', 100, 1)\n",
        "item2 = Item(\"Laptop\", 1000, 5)\n",
        "\n",
        "print(item1.calculate_total_price())\n",
        "print(item2.calculate_total_price())\n"
      ]
    },
    {
      "cell_type": "markdown",
      "metadata": {
        "id": "cwmPM_B9nsbj"
      },
      "source": [
        "### Part 3 Атрибути класу і зміні класу"
      ]
    },
    {
      "cell_type": "code",
      "execution_count": null,
      "metadata": {
        "id": "p8nWjz6noGAU"
      },
      "outputs": [],
      "source": [
        "# main.py\n",
        "\n",
        "class Item:\n",
        "    pay_rate = 0.8 # Сума після знижки в 20%\n",
        "    all_class_instance = list()\n",
        "\n",
        "    def __init__(self, name: str, price: float, quantity=0):\n",
        "        self.name = name\n",
        "        self.price = price\n",
        "        self.quantity = quantity\n",
        "\n",
        "        Item.all_class_instance.append(self)\n",
        "\n",
        "    def calculate_total_price(self):\n",
        "        return self.price * self.quantity\n",
        "\n",
        "    def apply_discount(self):\n",
        "        self.price = self.price * self.pay_rate\n",
        "\n",
        "    def info(self):\n",
        "        return f\"Item( name:{self.name}, price:{self.price}, quantity:{self.quantity} )\"\n",
        "\n",
        "\n",
        "item1 = Item('Phone', 100, 1)\n",
        "item2 = Item(\"Laptop\", 1000, 5)\n",
        "\n",
        "\n",
        "print(item1.__dict__)\n",
        "item2.apply_discount()\n",
        "print(item2.__dict__)\n",
        "print(item2.all_class_instance)\n",
        "# print(item1.calculate_total_price())\n",
        "# print(item2.calculate_total_price())\n",
        "\n",
        "# print(item1.__dict__)\n",
        "# print(item2.__dict__)\n"
      ]
    },
    {
      "cell_type": "markdown",
      "metadata": {
        "id": "kzgvaJzWnssx"
      },
      "source": [
        "### Part 4 Клас метод і статичний метод"
      ]
    },
    {
      "cell_type": "code",
      "execution_count": null,
      "metadata": {
        "id": "YZ2EPeMTpQ0F"
      },
      "outputs": [],
      "source": [
        "# Коли використовувати методи класу, а коли статичні методи?\n",
        "\n",
        "class Item:\n",
        "    @staticmethod\n",
        "    def is_integer():\n",
        "        '''\n",
        "        Це має бути щось, що має зв'язок\n",
        "        з класом, але не те, що повинно бути унікальним\n",
        "        для кожного екземпляру!\n",
        "        '''\n",
        "    @classmethod\n",
        "    def instantiate_from_something(cls):\n",
        "        '''\n",
        "        Це також має бути щось, що пов'язане\n",
        "        з класом, але зазвичай вони використовуються для\n",
        "        маніпулювання різними структурами даних для створення екземплярів\n",
        "        об'єктів\n",
        "        '''\n",
        "\n",
        "# ЄДИНА ВІДМІННІСТЬ МІЖ НИМИ:\n",
        "# статичні методи не передають посилання на об'єкт як перший аргумент у фоновому режимі!\n",
        "\n",
        "# ПРИМІТКА: Однак, їх також можна викликати з екземплярів.\n",
        "\n",
        "item1 = Item()\n",
        "item1.is_integer()\n",
        "item1.instantiate_from_something()"
      ]
    },
    {
      "cell_type": "code",
      "execution_count": null,
      "metadata": {
        "id": "2gQYe-UOo2u8"
      },
      "outputs": [],
      "source": [
        "class Item:\n",
        "    pay_rate = 0.8 # Сума після знижки в 20%\n",
        "    all_class_instance = list()\n",
        "    class_instances = dict()\n",
        "\n",
        "    def __init__(self, name: str, price: float, quantity=0):\n",
        "\n",
        "        assert price >= 0, f\"Price {price} is not greater than or equal to zero\"\n",
        "        assert quantity >= 0, f\"Quantity {quantity} is not greater than or equal to zero\"\n",
        "\n",
        "        self.name = name\n",
        "        self.price = price\n",
        "        self.quantity = quantity\n",
        "\n",
        "        Item.all_class_instance.append(self)\n",
        "\n",
        "    def calculate_total_price(self):\n",
        "        return self.price * self.quantity\n",
        "\n",
        "    def apply_discount(self):\n",
        "        self.price = self.price * self.pay_rate\n",
        "\n",
        "    def info(self):\n",
        "        return f\"Item( name:{self.name}, price:{self.price}, quantity:{self.quantity} )\"\n",
        "    @classmethod\n",
        "    def all_items_info(cls):\n",
        "        return [item.info() for item in cls.all_class_instance]\n",
        "\n",
        "    @classmethod\n",
        "    def load_data_from_csv(cls):\n",
        "        with open('items.csv', 'r') as file:\n",
        "            next(file)\n",
        "            for line in file:\n",
        "                name, price, quantity = line.strip().split(',')\n",
        "                # cls(\n",
        "                Item(\n",
        "                    name=name.strip('\"'),\n",
        "                    price=float(price),\n",
        "                    quantity=int(quantity)\n",
        "                    )\n",
        "                # item = Item(\n",
        "                #     name=name.strip('\"'),\n",
        "                #     price=float(price),\n",
        "                #     quantity=int(quantity)\n",
        "                #     )\n",
        "                # Item.class_instances[name.strip('\"')] = item\n",
        "\n",
        "# item1 = Item('Phone', 100, 1)\n",
        "# item2 = Item(\"Laptop\", 1000, 5)\n",
        "#\n",
        "# print(item1.info())\n",
        "# print(item2.info())\n",
        "#\n",
        "# print(Item.all_class_instance)\n",
        "# print(Item.all_items_info())\n",
        "item = Item(\"Keyboard\", 150, 7)\n",
        "item.load_data_from_csv()\n",
        "print(item.info())\n",
        "print(Item.all_items_info())\n",
        "\n",
        "# print(Item.class_instances)\n",
        "# print(Item.class_instances['Mouse'].price)"
      ]
    },
    {
      "cell_type": "markdown",
      "metadata": {
        "id": "bRSxSIrfns6B"
      },
      "source": [
        "### Part 5 Наслідування"
      ]
    },
    {
      "cell_type": "code",
      "execution_count": null,
      "metadata": {
        "id": "3umBzoXqo3NZ"
      },
      "outputs": [],
      "source": [
        "# main.py\n",
        "\n",
        "class Item:\n",
        "    pay_rate = 0.8 # Сума після знижки в 20%\n",
        "    all_class_instance = list()\n",
        "\n",
        "    def __init__(self, name: str, price: float, quantity=0):\n",
        "\n",
        "        assert price >= 0, f\"Price {price} is not greater than or equal to zero\"\n",
        "        assert quantity >= 0, f\"Quantity {quantity} is not greater than or equal to zero\"\n",
        "\n",
        "        self.name = name\n",
        "        self.price = price\n",
        "        self.quantity = quantity\n",
        "\n",
        "        Item.all_class_instance.append(self)\n",
        "\n",
        "    def calculate_total_price(self):\n",
        "        return self.price * self.quantity\n",
        "\n",
        "    def apply_discount(self):\n",
        "        self.price = round(self.price * self.pay_rate, 2)\n",
        "\n",
        "    def info(self):\n",
        "        return f\"Item( name:{self.name}, price:{self.price}, quantity:{self.quantity} )\"\n",
        "    @classmethod\n",
        "    def all_items_info(cls):\n",
        "        return [item.info() for item in cls.all_class_instance]\n",
        "\n",
        "    @classmethod\n",
        "    def load_data_from_csv(cls):\n",
        "        with open('items.csv', 'r') as file:\n",
        "            next(file)\n",
        "            for line in file:\n",
        "                name, price, quantity = line.strip().split(',')\n",
        "                # cls(\n",
        "                Item(\n",
        "                    name=name.strip('\"'),\n",
        "                    price=float(price),\n",
        "                    quantity=int(quantity)\n",
        "                    )\n",
        "\n",
        "class Phone(Item):\n",
        "    def __init__(self, name: str, price: float, broken_phones: int, quantity=0):\n",
        "        super().__init__(name, price, quantity)\n",
        "        self.broken_phones = broken_phones\n",
        "\n",
        "    def info(self):\n",
        "        return f\"Phone( name:{self.name}, price:{self.price}, \" \\\n",
        "               f\"quantity:{self.quantity}, broken_phones: {self.broken_phones} )\"\n",
        "\n",
        "\n",
        "phone = Phone(\"Phone16\", 78, 945, 13)\n",
        "\n",
        "print(phone.info())\n",
        "phone.apply_discount()\n",
        "print(phone.info())\n",
        "\n",
        "item = Item(\"TestItem\", 90000, 3)\n",
        "print(item.info())\n",
        "item.apply_discount()\n",
        "print(item.info())"
      ]
    },
    {
      "cell_type": "markdown",
      "metadata": {
        "id": "fwlAyIX1ntTO"
      },
      "source": [
        "### Part 6 Інкапсуляція"
      ]
    },
    {
      "cell_type": "code",
      "execution_count": null,
      "metadata": {
        "id": "HzByZg_3o3zv"
      },
      "outputs": [],
      "source": [
        "# item.py\n",
        "\n",
        "class Item:\n",
        "    pay_rate = 0.8 # Сума після знижки в 20%\n",
        "    all_class_instance = list()\n",
        "\n",
        "    def __init__(self, name: str, price: float, quantity=0):\n",
        "\n",
        "        assert price >= 0, f\"Price {price} is not greater than or equal to zero\"\n",
        "        assert quantity >= 0, f\"Quantity {quantity} is not greater than or equal to zero\"\n",
        "\n",
        "        self.__name = name\n",
        "        self.price = price\n",
        "        self.quantity = quantity\n",
        "\n",
        "        Item.all_class_instance.append(self)\n",
        "\n",
        "    def get_name(self):\n",
        "        return self.__name\n",
        "\n",
        "    def set_name(self, value):\n",
        "        if len(value) > 10:\n",
        "            raise Exception(\"The name is to short\")\n",
        "        else:\n",
        "            self.__name = value\n",
        "\n",
        "    def calculate_total_price(self):\n",
        "        return self.price * self.quantity\n",
        "\n",
        "    def apply_discount(self):\n",
        "        self.price = round(self.price * self.pay_rate, 2)\n",
        "\n",
        "    def info(self):\n",
        "        return f\"Item( name:{self.get_name()}, price:{self.price}, quantity:{self.quantity} )\"\n",
        "\n",
        "    @classmethod\n",
        "    def all_items_info(cls):\n",
        "        return [item.info() for item in cls.all_class_instance]\n",
        "\n",
        "    @classmethod\n",
        "    def load_data_from_csv(cls):\n",
        "        with open('items.csv', 'r') as file:\n",
        "            next(file)\n",
        "            for line in file:\n",
        "                name, price, quantity = line.strip().split(',')\n",
        "                # cls(\n",
        "                Item(\n",
        "                    name=name.strip('\"'),\n",
        "                    price=float(price),\n",
        "                    quantity=int(quantity)\n",
        "                    )\n"
      ]
    },
    {
      "cell_type": "code",
      "execution_count": null,
      "metadata": {
        "id": "qvZ8iQoLpk-6"
      },
      "outputs": [],
      "source": [
        "# phone.py\n",
        "\n",
        "from item import Item\n",
        "\n",
        "class Phone(Item):\n",
        "    def __init__(self, name: str, price: float, broken_phones: int, quantity=0):\n",
        "        super().__init__(name, price, quantity)\n",
        "        self.broken_phones = broken_phones\n",
        "\n",
        "    def info(self):\n",
        "        return f\"Phone( name:{self.get_name()}, price:{self.price}, \" \\\n",
        "               f\"quantity:{self.quantity}, broken_phones: {self.broken_phones} )\"\n"
      ]
    },
    {
      "cell_type": "code",
      "execution_count": null,
      "metadata": {
        "id": "mHHtkmAAplFr"
      },
      "outputs": [],
      "source": [
        "# main.py\n",
        "\n",
        "from item import Item\n",
        "\n",
        "item = Item('MyItem', 750)\n",
        "\n",
        "print(item.info())\n",
        "\n",
        "item.name = \"OtherName\"\n",
        "\n",
        "print(item.name)\n",
        "\n",
        "print(item.info())\n",
        "print(item.__dict__)"
      ]
    },
    {
      "cell_type": "markdown",
      "metadata": {
        "id": "7fLsktFVntgW"
      },
      "source": [
        "### Part 7 Поліморфізм"
      ]
    },
    {
      "cell_type": "code",
      "execution_count": null,
      "metadata": {
        "id": "gBcBesm3o4Sc"
      },
      "outputs": [],
      "source": [
        "# item.py\n",
        "\n",
        "class Item:\n",
        "    pay_rate = 0.8 # Сума після знижки в 20%\n",
        "    all_class_instance = list()\n",
        "\n",
        "    def __init__(self, name: str, price: float, quantity=0):\n",
        "\n",
        "        assert price >= 0, f\"Price {price} is not greater than or equal to zero\"\n",
        "        assert quantity >= 0, f\"Quantity {quantity} is not greater than or equal to zero\"\n",
        "\n",
        "        self.__name = name\n",
        "        self.__price = price\n",
        "        self.quantity = quantity\n",
        "\n",
        "        Item.all_class_instance.append(self)\n",
        "\n",
        "    def get_price(self):\n",
        "        return self.__price\n",
        "\n",
        "    def get_name(self):\n",
        "        return self.__name\n",
        "\n",
        "    def set_name(self, value):\n",
        "        if len(value) > 10:\n",
        "            raise Exception(\"The name is to short\")\n",
        "        else:\n",
        "            self.__name = value\n",
        "\n",
        "    def calculate_total_price(self):\n",
        "        return self.__price * self.quantity\n",
        "\n",
        "    def apply_discount(self):\n",
        "        self.__price = round(self.__price * self.pay_rate, 2)\n",
        "\n",
        "    def info(self):\n",
        "        return f\"Item( name:{self.get_name()}, price:{self.get_price()}, quantity:{self.quantity} )\"\n",
        "\n",
        "    @classmethod\n",
        "    def all_items_info(cls):\n",
        "        return [item.info() for item in cls.all_class_instance]\n",
        "\n",
        "    @classmethod\n",
        "    def load_data_from_csv(cls):\n",
        "        with open('items.csv', 'r') as file:\n",
        "            next(file)\n",
        "            for line in file:\n",
        "                name, price, quantity = line.strip().split(',')\n",
        "                # cls(\n",
        "                Item(\n",
        "                    name=name.strip('\"'),\n",
        "                    price=float(price),\n",
        "                    quantity=int(quantity)\n",
        "                    )\n"
      ]
    },
    {
      "cell_type": "code",
      "execution_count": null,
      "metadata": {
        "id": "AJdY82-OpqEA"
      },
      "outputs": [],
      "source": [
        "# phone.py\n",
        "\n",
        "from item import Item\n",
        "\n",
        "class Phone(Item):\n",
        "    pay_rate = 0.7\n",
        "    def __init__(self, name: str, price: float, broken_phones: int, quantity=0):\n",
        "        super().__init__(name, price, quantity)\n",
        "        self.broken_phones = broken_phones\n",
        "        assert broken_phones >= 0, f\"Broken phones {broken_phones} is not greater than or equal to zero\"\n",
        "\n",
        "    def info(self):\n",
        "        return f\"Phone( name:{self.get_name()}, price:{self.price}, \" \\\n",
        "               f\"quantity:{self.quantity}, broken_phones: {self.broken_phones} )\"\n"
      ]
    },
    {
      "cell_type": "code",
      "execution_count": null,
      "metadata": {
        "id": "n47iE1QbprU1"
      },
      "outputs": [],
      "source": [
        "# keyboard.py\n",
        "\n",
        "from item import Item\n",
        "\n",
        "class Keyboard(Item):\n",
        "    pay_rate = 0.5\n",
        "    def __init__(self, name: str, price: float):\n",
        "        super().__init__(name, price)\n",
        "\n",
        "    def info(self):\n",
        "        return f\"Phone( name:{self.get_name()}, price:{self.get_price()}\"\n"
      ]
    },
    {
      "cell_type": "code",
      "execution_count": null,
      "metadata": {
        "id": "TygZc4OspqKq"
      },
      "outputs": [],
      "source": [
        "# main.py\n",
        "\n",
        "from phone import Phone\n",
        "from keyboard import Keyboard\n",
        "\n",
        "item1 = Keyboard('Logi', 3456)\n",
        "item1.apply_discount()\n",
        "print(item1.get_price())\n",
        "\n",
        "item2 = Phone('TestPhone', 1234, 1)\n",
        "item2.apply_discount()\n",
        "print(item2.get_price())"
      ]
    },
    {
      "cell_type": "markdown",
      "metadata": {
        "id": "PI0yIaII1Kjr"
      },
      "source": [
        "## Method Resolution Order (MRO)."
      ]
    },
    {
      "cell_type": "markdown",
      "metadata": {
        "id": "bHMTcTws1OC9"
      },
      "source": [
        "MRO в Python працює таким чином:\n",
        "\n",
        "1. Шукає атрибут серед атрибутів самого класу. Саме завдяки цьому, ви можете \"перевизначати\" батьківські атрибути.\n",
        "2. Шукає атрибут у першого батька (той, що вказаний першим у списку батьків).\n",
        "3. Шукає атрибут у наступного батька в списку батьків, поки такі є.\n",
        "4. Шукає атрибут у батьках першого батька.\n",
        "5. Повторює п.4 для всіх батьків.\n",
        "6. Викликає виняток, що атрибут не знайдено."
      ]
    },
    {
      "cell_type": "code",
      "execution_count": null,
      "metadata": {
        "colab": {
          "base_uri": "https://localhost:8080/"
        },
        "id": "uiPDvvYP1cHM",
        "outputId": "8148a068-742f-479d-9dec-0cb4e9d72990"
      },
      "outputs": [
        {
          "name": "stdout",
          "output_type": "stream",
          "text": [
            "a\n",
            "d\n",
            "(<class '__main__.D'>, <class '__main__.B'>, <class '__main__.C'>, <class '__main__.A'>, <class 'object'>)\n"
          ]
        }
      ],
      "source": [
        "class A:\n",
        "    x = 'a'\n",
        "\n",
        "class B(A):\n",
        "    pass\n",
        "\n",
        "class C(A):\n",
        "    ...\n",
        "\n",
        "class D(B, C):\n",
        "    x = 'd'\n",
        "\n",
        "print(B.x)\n",
        "print(D.x)\n",
        "print(D.__mro__) #mro 3 (<class '__main__.D'>, <class '__main__.B'>, <class '__main__.C'>, <class '__main__.A'>, <class 'object'>)\n",
        "#mro 2 (<class '__main__.D'>, <class '__main__.B'>, <class '__main__.A'>, <class '__main__.C'>, <class 'object'>)"
      ]
    }
  ],
  "metadata": {
    "colab": {
      "provenance": []
    },
    "kernelspec": {
      "display_name": "Python 3",
      "name": "python3"
    },
    "language_info": {
      "codemirror_mode": {
        "name": "ipython",
        "version": 3
      },
      "file_extension": ".py",
      "mimetype": "text/x-python",
      "name": "python",
      "nbconvert_exporter": "python",
      "pygments_lexer": "ipython3",
      "version": "3.13.3"
    }
  },
  "nbformat": 4,
  "nbformat_minor": 0
}
