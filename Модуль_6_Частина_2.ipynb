{
  "nbformat": 4,
  "nbformat_minor": 0,
  "metadata": {
    "colab": {
      "provenance": [],
      "toc_visible": true
    },
    "kernelspec": {
      "name": "python3",
      "display_name": "Python 3"
    },
    "language_info": {
      "name": "python"
    }
  },
  "cells": [
    {
      "cell_type": "markdown",
      "metadata": {
        "id": "OeHSz3_b5ehN"
      },
      "source": [
        "# Задачі для теоретичного заняття дванадцятого дня\n",
        "\n",
        "Задачі теоретичного блоку: продемонструвати на практичному прикладі власні вийнятки і контейнери, створені за допомогою наслідування (UserList, UserDict, UserString), @dataclass, Enum.\n",
        "Для самостійного опрацювання і спроб запускати всі існуючі задачі не заважаючи іншим студентам курсу потрібно здійснити наступні кроки:\n",
        "\n",
        "1. Натиснути кнопку \"Файл\" в лівому верхньому куті\n",
        "2. Вибрати пункт \"Зберегти копію на диску\"\n",
        "3. У вікні з вашою копією у правому верхньому куті натиснути \"Підключитись\"\n",
        "\n",
        "Можете запускати всі задачі, які забажаєте і писати власні програми вивчаючи функціонал цього середовища\n"
      ]
    },
    {
      "cell_type": "markdown",
      "source": [
        "## [Patterns](https://refactoring.guru/design-patterns)"
      ],
      "metadata": {
        "id": "Hot10YawXv0y"
      }
    },
    {
      "cell_type": "markdown",
      "source": [
        "## Контейнери, створені за допомогою успадкування (UserList, UserDict, UserString)"
      ],
      "metadata": {
        "id": "fdHvwr6y1wFC"
      }
    },
    {
      "cell_type": "markdown",
      "source": [
        "### Доступ до елементів контейнера"
      ],
      "metadata": {
        "id": "AQe2bzvs1woT"
      }
    },
    {
      "cell_type": "markdown",
      "source": [
        "__Магічні методи:__\n",
        "```python\n",
        "__len__(self) # Довжина\n",
        "\n",
        "__getitem__(self, key) # Синатксис доступу за ключем (container[key])\n",
        "   \n",
        "__setitem__(self, key, value) # Синтаксис зміни за ключем (container[key] = new_value)\n",
        "\n",
        "__delitem__(self, key) # Видалення елемента (del container[key])\n",
        "\n",
        "__iter__(self) # Метод, який викликається функцією iter() або коли використовується `for ... in container:`\n",
        "\n",
        "__reversed__(self) # Повертає container у зворотному порядку (якщо контейнер упорядкований)\n",
        "\n",
        "__contains__(self, item) # Відповідає за синтаксис `some_val in container`\n",
        "\n",
        "__missing__(self, key) # Відповідає за поведінку під час спроби звернутися до неіснуючого елемента\n",
        "```"
      ],
      "metadata": {
        "id": "etZA00Cr1zb9"
      }
    },
    {
      "cell_type": "markdown",
      "source": [
        "#### UserList"
      ],
      "metadata": {
        "id": "YGjd4Hpa19SE"
      }
    },
    {
      "cell_type": "code",
      "source": [
        "from collections import UserList\n",
        "from random import randint\n",
        "\n",
        "class ExperimentsResults(UserList):\n",
        "\n",
        "    def positive_values(self):\n",
        "        return list(filter(lambda x: x >= 0, self.data))\n",
        "\n",
        "    def negative_values(self):\n",
        "        return list(filter(lambda x: x < 0, self.data))\n",
        "\n",
        "\n",
        "result = ExperimentsResults()\n",
        "\n",
        "for _ in range(20):\n",
        "    result.append(randint(-10, 10))\n",
        "\n",
        "print(result)\n",
        "print(result.positive_values())\n",
        "print(result.negative_values())\n",
        "print(result.data)"
      ],
      "metadata": {
        "id": "in-4Y17L17gJ"
      },
      "execution_count": null,
      "outputs": []
    },
    {
      "cell_type": "markdown",
      "source": [
        "#### UserDict"
      ],
      "metadata": {
        "id": "3rM0g53d2DDq"
      }
    },
    {
      "cell_type": "markdown",
      "source": [
        "Створити словник, який дає змогу знаходити/змінювати значення за\n",
        "ключем і ключ за значенням. Передбачається, що значення не повторюються"
      ],
      "metadata": {
        "id": "gaGF_rRr2QC6"
      }
    },
    {
      "cell_type": "code",
      "source": [
        "from collections import UserDict\n",
        "\n",
        "\n",
        "class DualDict(UserDict):\n",
        "    def __init__(self, initial=None):\n",
        "        if initial is None:\n",
        "            self.from_value = dict()\n",
        "            self.data = dict()\n",
        "        else:\n",
        "            self.data = initial\n",
        "            self.from_value = {val: key for key, val in initial.items()}\n",
        "\n",
        "    def __setitem__(self, key, value):\n",
        "        self.data[key] = value\n",
        "        if value in self.from_value:\n",
        "            old = self.from_value[value]\n",
        "            self.from_value.pop(old)\n",
        "        self.from_value[value] = key\n",
        "\n",
        "    def get_by_value(self, value):\n",
        "        return self.from_value[value]\n",
        "\n",
        "    def set_by_value(self, value, key):\n",
        "        old_key = self.from_value[value]\n",
        "        self.data.pop(old_key)\n",
        "        self.data[key] = value\n",
        "        self.from_value[value] = key\n",
        "\n",
        "dual = DualDict({1:2, 3:4})\n",
        "print(dual)\n",
        "print(dual.get_by_value(2) == 1)\n",
        "dual.set_by_value(4, 8)\n",
        "print(dual)\n",
        "\n",
        "\n"
      ],
      "metadata": {
        "id": "AEwEwxxY2QV5"
      },
      "execution_count": null,
      "outputs": []
    },
    {
      "cell_type": "markdown",
      "source": [
        "#### UserString"
      ],
      "metadata": {
        "id": "6V3X8Qvq2cpf"
      }
    },
    {
      "cell_type": "code",
      "source": [
        "from collections import UserString\n",
        "\n",
        "template = [\n",
        "    \"You can achieve anything. All it takes is a little effort and some books.\",\n",
        "    \"This smartphone is the real deal. Big, bright screen, powerful processor, all in a small gadget.\",\n",
        "    \"Collecting infinity stones is easy if you're a born hero.\",\n",
        "    \"Mastering layout is easy. Pick up a new book and put all the exercises into practice.\",\n",
        "    \"It's not hard to fight procrastination. Just take action. In small steps.\",\n",
        "    \"Programming isn't as hard as they say.\",\n",
        "    \"Simple daily exercises will help you succeed.\",\n",
        "]\n",
        "\n",
        "class Comments(UserString):\n",
        "    def get_limit_comment(self, max_len=15):\n",
        "        return f\"{self.data[:max_len-3]}...\"\n",
        "\n",
        "comments = [Comments(el) for el in template]\n",
        "\n",
        "\n",
        "for comment in comments:\n",
        "    # print(comment.get_limit_comment())\n",
        "    print(comment.get_limit_comment(35))"
      ],
      "metadata": {
        "id": "3wpFbyNf2dCc"
      },
      "execution_count": null,
      "outputs": []
    },
    {
      "cell_type": "markdown",
      "source": [
        "## Власні винятки"
      ],
      "metadata": {
        "id": "CDJk6i-a2p2L"
      }
    },
    {
      "cell_type": "code",
      "source": [
        "class LessThanZero(Exception):\n",
        "    pass\n",
        "    # def __init__(self, value):\n",
        "    #     self.value = value\n",
        "    #\n",
        "    # def __str__(self):\n",
        "    #     return repr(self.value)\n",
        "\n",
        "def func(n):\n",
        "    if n < 0:\n",
        "        raise LessThanZero(f'value {n} < 0')\n",
        "    print(n)\n",
        "\n",
        "func(1)"
      ],
      "metadata": {
        "id": "rEwKy_tf2tnH"
      },
      "execution_count": null,
      "outputs": []
    },
    {
      "cell_type": "markdown",
      "source": [
        "## Dataclass"
      ],
      "metadata": {
        "id": "KX1f1g4vfPX5"
      }
    },
    {
      "cell_type": "code",
      "source": [
        "# Dont use dataclass\n",
        "class LessThanZero:\n",
        "    def __init__(self):\n",
        "        self.text()\n",
        "\n",
        "    def text(self):\n",
        "        print(\"You launch LessThanZero class\")\n",
        "\n",
        "test = LessThanZero()"
      ],
      "metadata": {
        "id": "qNOKqUP7fOuq"
      },
      "execution_count": null,
      "outputs": []
    },
    {
      "cell_type": "markdown",
      "source": [
        "## [`__slots__`](https://stackoverflow.com/questions/472000/usage-of-slots)\n",
        "\n"
      ],
      "metadata": {
        "id": "SvzW4QHKBqVw"
      }
    },
    {
      "cell_type": "markdown",
      "source": [
        "## Enum"
      ],
      "metadata": {
        "id": "oymBmIcDfP6e"
      }
    },
    {
      "cell_type": "code",
      "source": [
        "from enum import Enum\n",
        "\n",
        "class Semaphore(Enum):\n",
        "    RED = 1\n",
        "    YELLOW = 2\n",
        "    GREEN = 3\n",
        "\n",
        "def handle_semaphore(light):\n",
        "    match light:\n",
        "        case Semaphore.RED:\n",
        "            print(\"You must stop\")\n",
        "        case Semaphore.YELLOW:\n",
        "            print(\"Light might be changed to red, be careful\")\n",
        "        case Semaphore.GREEN:\n",
        "            print(\"You can continue\")\n",
        "\n",
        "handle_semaphore(Semaphore.RED)\n",
        "handle_semaphore(Semaphore.YELLOW)\n",
        "handle_semaphore(Semaphore.GREEN)"
      ],
      "metadata": {
        "id": "jjngWo5Ps9is"
      },
      "execution_count": null,
      "outputs": []
    },
    {
      "cell_type": "code",
      "source": [
        "from enum import Enum\n",
        "from dataclasses import dataclass\n",
        "from collections import UserList\n",
        "\n",
        "class UserRole(Enum):\n",
        "    ADMIN = 'Admin'\n",
        "    MODERATOR = 'Moderator'\n",
        "    USER = 'User'\n",
        "\n",
        "\n",
        "class UnauthorizedAccessError(Exception):\n",
        "    pass\n",
        "\n",
        "@dataclass\n",
        "class Country:\n",
        "    name: str\n",
        "    code: str\n",
        "\n",
        "@dataclass\n",
        "class User:\n",
        "    username: str\n",
        "    email: str\n",
        "    role: UserRole\n",
        "    country: Country\n",
        "\n",
        "class RestrictedUserList(UserList):\n",
        "    def __init__(self, *args, allowed_roles=None, **kwargs):\n",
        "        self.allowed_roles = allowed_roles or [UserRole.ADMIN]\n",
        "        super().__init__(*args, **kwargs)\n",
        "\n",
        "    def append(self, user) -> None:\n",
        "        if user.role not in self.allowed_roles:\n",
        "            raise UnauthorizedAccessError(\"You don't have permission to add this user\")\n",
        "        super().append(user)\n",
        "\n",
        "    def extend(self, users) -> None:\n",
        "        for user in users:\n",
        "            self.append(user)\n",
        "\n",
        "    def remove(self, user) -> None:\n",
        "        if user.role not in self.allowed_roles:\n",
        "            raise UnauthorizedAccessError(\"You don't have permission to remove this user\")\n",
        "        super().remove(user)\n",
        "\n",
        "if __name__ == '__main__':\n",
        "    usa = Country(name='United States', code=\"US\")\n",
        "    uk = Country(name='United Kingdom', code=\"UK\")\n",
        "\n",
        "    admin = User(username='admin', email='admin@admin.com', role=UserRole.ADMIN, country=usa)\n",
        "    moderator = User(username='moderator', email='moderator@moderator.com', role=UserRole.MODERATOR, country=uk)\n",
        "    user = User(username='user', email='test@test.com', role=UserRole.USER, country=usa)\n",
        "\n",
        "    restricted_users = RestrictedUserList(allowed_roles=[UserRole.ADMIN, UserRole.MODERATOR])\n",
        "    restricted_users.extend([admin, moderator])\n",
        "\n",
        "    try:\n",
        "        restricted_users.append(user)\n",
        "    except UnauthorizedAccessError as e:\n",
        "        print(e)"
      ],
      "metadata": {
        "id": "dxtH9clWfO9O"
      },
      "execution_count": null,
      "outputs": []
    }
  ]
}